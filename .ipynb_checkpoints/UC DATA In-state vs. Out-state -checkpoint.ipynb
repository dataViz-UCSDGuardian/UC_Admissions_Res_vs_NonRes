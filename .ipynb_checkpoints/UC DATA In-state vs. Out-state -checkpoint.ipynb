{
 "cells": [
  {
   "cell_type": "code",
   "execution_count": 1,
   "metadata": {
    "collapsed": true
   },
   "outputs": [],
   "source": [
    "import matplotlib.pyplot as plt"
   ]
  },
  {
   "cell_type": "code",
   "execution_count": 2,
   "metadata": {
    "collapsed": true
   },
   "outputs": [],
   "source": [
    "years = []\n",
    "resAd = []\n",
    "resAp = []\n",
    "nonResAd = []\n",
    "nonResAp = []\n",
    "apRatio = []\n",
    "adRatio = []\n",
    "\n",
    "UCBresAd = []\n",
    "UCBresAp = []\n",
    "UCBnonResAd = []\n",
    "UCBnonResAp = []\n",
    "UCBapRatio = []\n",
    "UCBadRatio = []\n",
    "\n",
    "UCDresAd = []\n",
    "UCDresAp = []\n",
    "UCDnonResAd = []\n",
    "UCDnonResAp = []\n",
    "UCDapRatio = []\n",
    "UCDadRatio = []\n",
    "\n",
    "UCLAresAd = []\n",
    "UCLAresAp = []\n",
    "UCLAnonResAd = []\n",
    "UCLAnonResAp = []\n",
    "UCLAapRatio = []\n",
    "UCLAadRatio = []\n",
    "\n",
    "UCLAresAd = []\n",
    "UCLAresAp = []\n",
    "UCLAnonResAd = []\n",
    "UCLAnonResAp = []\n",
    "UCLAapRatio = []\n",
    "UCLAadRatio = []\n"
   ]
  },
  {
   "cell_type": "code",
   "execution_count": 3,
   "metadata": {
    "collapsed": false
   },
   "outputs": [],
   "source": [
    "resAd = [ 13973, 15514,  16566,  15820, 16182]\n",
    "resAp = [ 45615, 48300,  50632 , 52127, 53665]\n",
    "\n",
    "nonResAd = [ 2217+2022, 3822+3603, 3894+4232, 3688+5077, 4516+5797]\n",
    "nonResAp = [ 4024+3822, 5778+6760 ,6822+9946, 8534+12794, 9731+14695]\n",
    "years = [2011, 2012, 2013, 2014, 2015]\n",
    "\n",
    "apRatio = [ 25.96, 33.13, 40.85, 45.52]\n",
    "adRatio = [ 47.85, 49.60, 55.61, 63.73]\n",
    "yearsRatio = [2012, 2013, 2014, 2015]\n",
    "\n",
    "\n",
    "resAdG = [16182, 16932]\n",
    "resApG = [53665, 53665]\n",
    "nonResAdG = [10313, 10313]\n",
    "nonResApG = [24426, 24426]\n",
    "\n",
    "apRatioG = [45.52, 45.52]\n",
    "adRatioG = [63.74, 60.91 ]\n",
    "yearsG = [2015, 2016]\n",
    "\n",
    "tableau = [(31, 119, 180), (174, 199, 232), (255, 127, 14), (255, 187, 120),    \n",
    "             (44, 160, 44), (152, 223, 138), (214, 39, 40), (255, 152, 150),    \n",
    "             (148, 103, 189), (197, 176, 213), (140, 86, 75), (196, 156, 148),    \n",
    "             (227, 119, 194), (247, 182, 210), (127, 127, 127), (199, 199, 199),    \n",
    "             (188, 189, 34), (219, 219, 141), (23, 190, 207), (158, 218, 229)]\n",
    "\n",
    "for i in range(len(tableau)):    \n",
    "    r, g, b = tableau[i]    \n",
    "    tableau[i] = (r / 255., g / 255., b / 255.)  "
   ]
  },
  {
   "cell_type": "code",
   "execution_count": 8,
   "metadata": {
    "collapsed": false
   },
   "outputs": [],
   "source": [
    "plt.figure(figsize = (10, 7.5))\n",
    "ax = plt.subplot(111)\n",
    "ax.spines[\"top\"].set_visible(False)    \n",
    "ax.spines[\"bottom\"].set_visible(False)    \n",
    "ax.spines[\"right\"].set_visible(False)    \n",
    "ax.spines[\"left\"].set_visible(False)\n",
    "plt.xlim(2010, 2016)\n",
    "plt.ylim(3000, 60000)\n",
    "#plt.xticks(range(2010, 2016, 1), fontsize=14)\n",
    "\n",
    "plt.plot(years, resAd, color = tableau[1], lw = 3)\n",
    "plt.plot(years, resAp, color = tableau[1], lw = 3)\n",
    "#blue is residents\n",
    "plt.plot(years, nonResAd, color = tableau[2], lw = 3)#, linestyle = ':' )\n",
    "plt.plot(years, nonResAp, color = tableau[2], lw = 3)#, linestyle = ':' )\n",
    "#orange is non-res\n",
    "         \n",
    "plt.plot(yearsG, resAdG, color = tableau[1], lw = 3, linestyle = ':' )\n",
    "plt.plot(yearsG, resApG, color = tableau[1], lw = 3, linestyle = ':' )\n",
    "#blue is residents\n",
    "plt.plot(yearsG, nonResAdG, color = tableau[2], lw = 3, linestyle = ':' )\n",
    "plt.plot(yearsG, nonResApG, color = tableau[2], lw = 3, linestyle = ':' )\n",
    "\n",
    "plt.show()"
   ]
  },
  {
   "cell_type": "code",
   "execution_count": 10,
   "metadata": {
    "collapsed": true
   },
   "outputs": [],
   "source": [
    "plt.figure(figsize = (10, 7.5))\n",
    "ax = plt.subplot(111)\n",
    "ax.spines[\"top\"].set_visible(False)    \n",
    "ax.spines[\"bottom\"].set_visible(False)    \n",
    "ax.spines[\"right\"].set_visible(False)    \n",
    "ax.spines[\"left\"].set_visible(False)\n",
    "plt.xlim(2011, 2017)\n",
    "plt.ylim(0, 100)\n",
    "\n",
    "plt.plot(yearsRatio, apRatio, color = tableau[2], lw = 3) #, linestyle = ':' )\n",
    "#origin is applied\n",
    "plt.plot(yearsRatio, adRatio, color = tableau[1], lw = 3 )\n",
    "\n",
    "plt.plot(yearsG, apRatioG, color = tableau[2], lw = 3, linestyle = ':' )\n",
    "#origin is applied\n",
    "plt.plot(yearsG, adRatioG, color = tableau[1], lw = 3, linestyle = ':' )\n",
    "\n",
    "plt.show()"
   ]
  },
  {
   "cell_type": "code",
   "execution_count": null,
   "metadata": {
    "collapsed": true
   },
   "outputs": [],
   "source": []
  }
 ],
 "metadata": {
  "kernelspec": {
   "display_name": "Python 3",
   "language": "python",
   "name": "python3"
  },
  "language_info": {
   "codemirror_mode": {
    "name": "ipython",
    "version": 3
   },
   "file_extension": ".py",
   "mimetype": "text/x-python",
   "name": "python",
   "nbconvert_exporter": "python",
   "pygments_lexer": "ipython3",
   "version": "3.5.1"
  }
 },
 "nbformat": 4,
 "nbformat_minor": 0
}
